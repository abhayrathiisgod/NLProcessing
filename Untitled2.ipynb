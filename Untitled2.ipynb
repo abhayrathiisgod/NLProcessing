{
 "cells": [
  {
   "cell_type": "code",
   "execution_count": 1,
   "id": "5e796bad",
   "metadata": {},
   "outputs": [
    {
     "ename": "SyntaxError",
     "evalue": "invalid syntax (1317791193.py, line 1)",
     "output_type": "error",
     "traceback": [
      "\u001b[1;36m  File \u001b[1;32m\"C:\\Users\\Dell\\AppData\\Local\\Temp\\ipykernel_16560\\1317791193.py\"\u001b[1;36m, line \u001b[1;32m1\u001b[0m\n\u001b[1;33m    form urllib import request\u001b[0m\n\u001b[1;37m         ^\u001b[0m\n\u001b[1;31mSyntaxError\u001b[0m\u001b[1;31m:\u001b[0m invalid syntax\n"
     ]
    }
   ],
   "source": [
    "form urllib import request"
   ]
  },
  {
   "cell_type": "code",
   "execution_count": 2,
   "id": "b907f757",
   "metadata": {},
   "outputs": [],
   "source": [
    "from urllib import request"
   ]
  },
  {
   "cell_type": "code",
   "execution_count": 12,
   "id": "1ae3542c",
   "metadata": {},
   "outputs": [],
   "source": [
    "url = \"https://www.gutenberg.org/cache/epub/69937/pg69937-images.html\""
   ]
  },
  {
   "cell_type": "code",
   "execution_count": 5,
   "id": "4eca10a7",
   "metadata": {},
   "outputs": [],
   "source": [
    "response = request.urlopen(url)"
   ]
  },
  {
   "cell_type": "code",
   "execution_count": 6,
   "id": "91980a5c",
   "metadata": {},
   "outputs": [],
   "source": [
    "raw = response.read().decode('utf-8')"
   ]
  },
  {
   "cell_type": "code",
   "execution_count": 7,
   "id": "0e4d966e",
   "metadata": {},
   "outputs": [],
   "source": [
    "import nltk\n",
    "from nltk.tokenize import word_tokenize\n",
    "tokens = word_tokenize(raw)"
   ]
  },
  {
   "cell_type": "code",
   "execution_count": 14,
   "id": "d6a95f8f",
   "metadata": {},
   "outputs": [
    {
     "name": "stdout",
     "output_type": "stream",
     "text": [
      "['<', '!', 'DOCTYPE', 'html', '>', '<', 'html', 'class=', \"''\", '_9dls', \"''\", 'style=', \"''\", 'background-color', ':', 'rgb', '(', 'var', '(', '--', 'ig-secondary-background', ')', ')', \"''\", 'lang=', \"''\", 'en', \"''\", 'dir=', \"''\", 'ltr', \"''\", '>', '<', 'head', '>', '<', 'link', 'data-default-icon=', \"''\", 'https', ':', '//static.cdninstagram.com/rsrc.php/v3/yb/r/lswP1OF1o6P.png', \"''\", 'rel=', \"''\", 'icon', \"''\", 'sizes=', \"''\", '192x192', \"''\", 'href=', \"''\", 'https', ':', '//static.cdninstagram.com/rsrc.php/v3/yb/r/lswP1OF1o6P.png', \"''\", '/', '>', '<', 'meta', 'name=', \"''\", 'robots', \"''\", 'content=', \"''\", 'noarchive', ',', 'noimageindex', \"''\", '/', '>', '<', 'meta', 'charset=', \"''\", 'utf-8', \"''\", '/', '>', '<', 'meta', 'name=', \"''\", 'apple-mobile-web-app-status-bar-style', \"''\", 'content=', \"''\", 'default', \"''\", '/', '>', '<', 'meta', 'name=', \"''\", 'mobile-web-app-capable', \"''\", 'content=', \"''\", 'yes', \"''\", '/', '>', '<', 'meta', 'id=', \"''\", 'viewport', \"''\", 'name=', \"''\", 'viewport', \"''\", 'content=', \"''\", 'width=device-width', ',', 'initial-scale=1', ',', 'minimum-scale=1', ',', 'maximum-scale=2', ',', 'viewport-fit=cover', \"''\", '/', '>', '<', 'meta', 'name=', \"''\", 'theme-color', \"''\", 'content=', \"''\", '#', 'ffffff', \"''\", '/', '>', '<', 'link', 'rel=', \"''\", 'apple-touch-icon', \"''\", 'sizes=', \"''\", '76x76', \"''\", 'href=', \"''\", 'https', ':', '//static.cdninstagram.com/rsrc.php/v3/yR/r/lam-fZmwmvn.png', \"''\", '/', '>', '<', 'link', 'rel=', \"''\", 'apple-touch-icon', \"''\", 'sizes=', \"''\", '120x120', \"''\", 'href=', \"''\", 'https', ':', '//static.cdninstagram.com/rsrc.php/v3/ys/r/aM-g435MtEX.png', \"''\", '/', '>', '<', 'link', 'rel=', \"''\", 'apple-touch-icon', \"''\", 'sizes=', \"''\", '152x152', \"''\", 'href=', \"''\", 'https', ':', '//static.cdninstagram.com/rsrc.php/v3/yx/r/H1l_HHqi4p6.png', \"''\", '/', '>', '<', 'link', 'rel=']\n"
     ]
    }
   ],
   "source": [
    "print(tokens[:200])\n"
   ]
  },
  {
   "cell_type": "code",
   "execution_count": 16,
   "id": "67df0d9a",
   "metadata": {},
   "outputs": [],
   "source": [
    "#beautifulsoup\n",
    "#preprocessing - RE to clean any html tags or unnecessary \n",
    "# PoS tagging\n",
    "#!!"
   ]
  },
  {
   "cell_type": "code",
   "execution_count": 19,
   "id": "edf3f641",
   "metadata": {},
   "outputs": [
    {
     "data": {
      "text/plain": [
       "'happi'"
      ]
     },
     "execution_count": 19,
     "metadata": {},
     "output_type": "execute_result"
    }
   ],
   "source": [
    "import nltk\n",
    "from nltk.stem import PorterStemmer\n",
    "porter =PorterStemmer()\n",
    "porter.stem('happiness')"
   ]
  },
  {
   "cell_type": "code",
   "execution_count": 20,
   "id": "0bd42dd8",
   "metadata": {},
   "outputs": [
    {
     "data": {
      "text/plain": [
       "'abhay'"
      ]
     },
     "execution_count": 20,
     "metadata": {},
     "output_type": "execute_result"
    }
   ],
   "source": [
    "import nltk\n",
    "from nltk.stem import PorterStemmer\n",
    "porter =PorterStemmer()\n",
    "porter.stem('Abhay')"
   ]
  },
  {
   "cell_type": "code",
   "execution_count": 21,
   "id": "e31231e4",
   "metadata": {},
   "outputs": [
    {
     "data": {
      "text/plain": [
       "'happy'"
      ]
     },
     "execution_count": 21,
     "metadata": {},
     "output_type": "execute_result"
    }
   ],
   "source": [
    "import nltk\n",
    "from nltk.stem import LancasterStemmer\n",
    "porter =LancasterStemmer()\n",
    "porter.stem('happiness')"
   ]
  },
  {
   "cell_type": "code",
   "execution_count": 22,
   "id": "a44856ce",
   "metadata": {},
   "outputs": [
    {
     "data": {
      "text/plain": [
       "'revolv'"
      ]
     },
     "execution_count": 22,
     "metadata": {},
     "output_type": "execute_result"
    }
   ],
   "source": [
    "import nltk\n",
    "from nltk.stem import LancasterStemmer\n",
    "porter =LancasterStemmer()\n",
    "porter.stem('revolution')"
   ]
  },
  {
   "cell_type": "code",
   "execution_count": 23,
   "id": "ba38fcb5",
   "metadata": {},
   "outputs": [
    {
     "data": {
      "text/plain": [
       "'walk'"
      ]
     },
     "execution_count": 23,
     "metadata": {},
     "output_type": "execute_result"
    }
   ],
   "source": [
    "import nltk\n",
    "from nltk.stem import RegexpStemmer\n",
    "porter =RegexpStemmer('ing')\n",
    "porter.stem('walking')"
   ]
  },
  {
   "cell_type": "code",
   "execution_count": 25,
   "id": "a9ec95b1",
   "metadata": {},
   "outputs": [
    {
     "data": {
      "text/plain": [
       "'danc'"
      ]
     },
     "execution_count": 25,
     "metadata": {},
     "output_type": "execute_result"
    }
   ],
   "source": [
    "import nltk\n",
    "from nltk.stem import RegexpStemmer\n",
    "porter =RegexpStemmer('ing$')\n",
    "porter.stem('dancing')"
   ]
  },
  {
   "cell_type": "code",
   "execution_count": 26,
   "id": "7414a773",
   "metadata": {},
   "outputs": [],
   "source": [
    "#####"
   ]
  },
  {
   "cell_type": "code",
   "execution_count": 31,
   "id": "507e8774",
   "metadata": {},
   "outputs": [
    {
     "data": {
      "text/plain": [
       "'mang'"
      ]
     },
     "execution_count": 31,
     "metadata": {},
     "output_type": "execute_result"
    }
   ],
   "source": [
    "import nltk\n",
    "from nltk.stem import SnowballStemmer\n",
    "snow = SnowballStemmer('french')\n",
    "snow.stem('manges')"
   ]
  },
  {
   "cell_type": "code",
   "execution_count": 32,
   "id": "ac9b916b",
   "metadata": {},
   "outputs": [],
   "source": [
    "##task 5"
   ]
  },
  {
   "cell_type": "code",
   "execution_count": 37,
   "id": "a2e40a1b",
   "metadata": {},
   "outputs": [],
   "source": [
    "import nltk\n",
    "from nltk.stem import PorterStemmer\n",
    "porter =PorterStemmer()\n",
    "text='This ebook is for the use of anyone anywhere in the United States and most other parts of the world at no cost and with almost no restrictions whatsoever. You may copy it, give it away or re-use it under the terms of the Project Gutenberg License included with this ebook or online at www.gutenberg.org. If you are not located in the United States, you’ll have to check the laws of the country where you are located before using this eBook.This ebook is for the use of anyone anywhere in the United States and most other parts of the world at no cost and with almost no restrictions whatsoever. You may copy it, give it away or re-use it under the terms of the Project Gutenberg License included with this ebook or online at www.gutenberg.org. If you are not located in the United States, you’ll have to check the laws of the country where you are located before using this eBook.This ebook is for the use of anyone anywhere in the United States and most other parts of the world at no cost and with almost no restrictions whatsoever. You may copy it, give it away or re-use it under the terms of the Project Gutenberg License included with this ebook or online at www.gutenberg.org. If you are not located in the United States, you’ll have to check the laws of the country where you are located before using this eBook.This ebook is for the use of anyone anywhere in the United States and most other parts of the world at no cost and with almost no restrictions whatsoever. You may copy it, give it away or re-use it under the terms of the Project Gutenberg License included with this ebook or online at www.gutenberg.org. If you are not located in the United States, you’ll have to check the laws of the country where you are located before using this eBook.This ebook is for the use of anyone anywhere in the United States and most other parts of the world at no cost and with almost no restrictions whatsoever. You may copy it, give it away or re-use it under the terms of the Project Gutenberg License included with this ebook or online at www.gutenberg.org. If you are not located in the United States, you’ll have to check the laws of the country where you are located before using this eBook.This ebook is for the use of anyone anywhere in the United States and most other parts of the world at no cost and with almost no restrictions whatsoever. You may copy it, give it away or re-use it under the terms of the Project Gutenberg License included with this ebook or online at www.gutenberg.org. If you are not located in the United States, you’ll have to check the laws of the country where you are located before using this eBook.This ebook is for the use of anyone anywhere in the United States and most other parts of the world at no cost and with almost no restrictions whatsoever. You may copy it, give it away or re-use it under the terms of the Project Gutenberg License included with this ebook or online at www.gutenberg.org. If you are not located in the United States, you’ll have to check the laws of the country where you are located before using this eBook.'\n",
    "for elements in text:\n",
    "    porter =PorterStemmer()\n",
    "    porter.stem(elements)"
   ]
  },
  {
   "cell_type": "code",
   "execution_count": null,
   "id": "62ec35bc",
   "metadata": {},
   "outputs": [],
   "source": [
    "## correct one"
   ]
  },
  {
   "cell_type": "code",
   "execution_count": 45,
   "id": "33699e26",
   "metadata": {},
   "outputs": [],
   "source": [
    "#from nltk.stem import PortStemmer\n",
    "porter = PorterStemmer()\n",
    "text = \"This ebook is for the use of anyone anywhere in the United States and most other parts of the world at no cost and with almost no restrictions whatsoeverThis ebook is for the use of anyone anywhere in the United States and most other parts of the world at no cost and with almost no restrictions whatsoeverThis ebook is for the use of anyone anywhere in the United States and most other parts of the world at no cost and with almost no restrictions whatsoeverThis ebook is for the use of anyone anywhere in the United States and most other parts of the world at no cost and with almost no restrictions whatsoeverThis ebook is for the use of anyone anywhere in the United States and most other parts of the world at no cost and with almost no restrictions whatsoever\"\n",
    "s =  [porter.stem(token) for  token in text.split(\" \")]"
   ]
  },
  {
   "cell_type": "code",
   "execution_count": 46,
   "id": "64f1723a",
   "metadata": {},
   "outputs": [
    {
     "name": "stdout",
     "output_type": "stream",
     "text": [
      "['thi', 'ebook', 'is', 'for', 'the', 'use', 'of', 'anyon', 'anywher', 'in', 'the', 'unit', 'state', 'and', 'most', 'other', 'part', 'of', 'the', 'world', 'at', 'no', 'cost', 'and', 'with', 'almost', 'no', 'restrict', 'whatsoeverthi', 'ebook', 'is', 'for', 'the', 'use', 'of', 'anyon', 'anywher', 'in', 'the', 'unit', 'state', 'and', 'most', 'other', 'part', 'of', 'the', 'world', 'at', 'no']\n"
     ]
    }
   ],
   "source": [
    "print(s[:50])"
   ]
  },
  {
   "cell_type": "code",
   "execution_count": 51,
   "id": "e3d2f38d",
   "metadata": {},
   "outputs": [
    {
     "name": "stdout",
     "output_type": "stream",
     "text": [
      "be\n"
     ]
    }
   ],
   "source": [
    "from nltk.stem import WordNetLemmatizer\n",
    "l =  WordNetLemmatizer()\n",
    "print(l.lemmatize(\"am\", pos = 'v'))\n"
   ]
  },
  {
   "cell_type": "code",
   "execution_count": 53,
   "id": "61132919",
   "metadata": {},
   "outputs": [
    {
     "data": {
      "text/plain": [
       "'cactus'"
      ]
     },
     "execution_count": 53,
     "metadata": {},
     "output_type": "execute_result"
    }
   ],
   "source": [
    "l.lemmatize('cacti')"
   ]
  },
  {
   "cell_type": "code",
   "execution_count": 54,
   "id": "20b620d7",
   "metadata": {},
   "outputs": [
    {
     "data": {
      "text/plain": [
       "'pre'"
      ]
     },
     "execution_count": 54,
     "metadata": {},
     "output_type": "execute_result"
    }
   ],
   "source": [
    "l.lemmatize('pre')"
   ]
  },
  {
   "cell_type": "code",
   "execution_count": 55,
   "id": "9f0d79ed",
   "metadata": {},
   "outputs": [
    {
     "data": {
      "text/plain": [
       "'priori'"
      ]
     },
     "execution_count": 55,
     "metadata": {},
     "output_type": "execute_result"
    }
   ],
   "source": [
    "l.lemmatize('priori')"
   ]
  },
  {
   "cell_type": "code",
   "execution_count": null,
   "id": "1c31e312",
   "metadata": {},
   "outputs": [],
   "source": []
  }
 ],
 "metadata": {
  "kernelspec": {
   "display_name": "Python 3 (ipykernel)",
   "language": "python",
   "name": "python3"
  },
  "language_info": {
   "codemirror_mode": {
    "name": "ipython",
    "version": 3
   },
   "file_extension": ".py",
   "mimetype": "text/x-python",
   "name": "python",
   "nbconvert_exporter": "python",
   "pygments_lexer": "ipython3",
   "version": "3.9.13"
  }
 },
 "nbformat": 4,
 "nbformat_minor": 5
}
